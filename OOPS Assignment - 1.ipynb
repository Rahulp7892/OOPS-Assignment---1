{
 "cells": [
  {
   "cell_type": "code",
   "execution_count": 1,
   "id": "241ddc52-e6e7-4e7d-b226-9736a70a949e",
   "metadata": {},
   "outputs": [],
   "source": [
    "#Q.1 Explain class and object with respect to object-Oriented programming. Give a suitable example."
   ]
  },
  {
   "cell_type": "code",
   "execution_count": 1,
   "id": "6b13bf9b-ece6-4deb-895d-142d23d28bbb",
   "metadata": {},
   "outputs": [
    {
     "name": "stdout",
     "output_type": "stream",
     "text": [
      "'1984' by George Orwell, published in 1949.\n",
      "False\n",
      "'The Great Gatsby' by F. Scott Fitzgerald, published in 1925.\n",
      "False\n"
     ]
    }
   ],
   "source": [
    "class Book:\n",
    "    def __init__(self, title, author, year_published):\n",
    "    \n",
    "        self.title = title\n",
    "        self.author = author\n",
    "        self.year_published = year_published\n",
    "\n",
    "    def get_summary(self):\n",
    "        \n",
    "        return f\"'{self.title}' by {self.author}, published in {self.year_published}.\"\n",
    "\n",
    "    def is_classic(self):\n",
    "        \n",
    "        current_year = 202\n",
    "        return current_year - self.year_published > 50\n",
    "\n",
    "\n",
    "book1 = Book(\"1984\", \"George Orwell\", 1949)\n",
    "book2 = Book(\"The Great Gatsby\", \"F. Scott Fitzgerald\", 1925)\n",
    "\n",
    "\n",
    "print(book1.get_summary())         \n",
    "print(book1.is_classic())           \n",
    "print(book2.get_summary())          \n",
    "print(book2.is_classic())           "
   ]
  },
  {
   "cell_type": "code",
   "execution_count": 2,
   "id": "4aa35fcf-e40f-4562-8fdc-055c8b66d8d1",
   "metadata": {},
   "outputs": [],
   "source": [
    "#Q.2 Name the four pillars of OOPs"
   ]
  },
  {
   "cell_type": "code",
   "execution_count": 3,
   "id": "74568e9b-104d-4861-83ab-5d49779c52cc",
   "metadata": {},
   "outputs": [],
   "source": [
    "#Ans"
   ]
  },
  {
   "cell_type": "code",
   "execution_count": 4,
   "id": "daa286df-b426-425a-a789-6605bb4c1f57",
   "metadata": {},
   "outputs": [],
   "source": [
    "class Account:\n",
    "    def __init__(self, account_number, balance):\n",
    "        self.__account_number = account_number \n",
    "        self.__balance = balance  \n",
    "\n",
    "    def deposit(self, amount):\n",
    "        if amount > 0:\n",
    "            self.__balance += amount\n",
    "\n",
    "    def withdraw(self, amount):\n",
    "        if 0 < amount <= self.__balance:\n",
    "            self.__balance -= amount\n",
    "\n",
    "    def get_balance(self):\n",
    "        return self.__balance"
   ]
  },
  {
   "cell_type": "code",
   "execution_count": 5,
   "id": "b05cf678-7d6f-4a30-8ada-1e09b7d3344d",
   "metadata": {},
   "outputs": [],
   "source": [
    "from abc import ABC, abstractmethod\n",
    "\n",
    "class Shape(ABC):\n",
    "    @abstractmethod\n",
    "    def area(self):\n",
    "        pass\n",
    "\n",
    "class Circle(Shape):\n",
    "    def __init__(self, radius):\n",
    "        self.radius = radius\n",
    "\n",
    "    def area(self):\n",
    "        return 3.14 * self.radius * self.radius"
   ]
  },
  {
   "cell_type": "code",
   "execution_count": 6,
   "id": "62245cfd-d037-43eb-94f0-40920c4a44e0",
   "metadata": {},
   "outputs": [],
   "source": [
    "class Animal:\n",
    "    def speak(self):\n",
    "        return \"Animal sound\"\n",
    "\n",
    "class Dog(Animal):\n",
    "    def speak(self):\n",
    "        return \"Woof!\""
   ]
  },
  {
   "cell_type": "code",
   "execution_count": 7,
   "id": "3c07f304-9b5f-4000-b6f0-3ab3a9a13240",
   "metadata": {},
   "outputs": [
    {
     "name": "stdout",
     "output_type": "stream",
     "text": [
      "Woof!\n",
      "Meow!\n"
     ]
    }
   ],
   "source": [
    "def make_animal_speak(animal):\n",
    "    print(animal.speak())\n",
    "\n",
    "class Cat(Animal):\n",
    "    def speak(self):\n",
    "        return \"Meow!\"\n",
    "\n",
    "animals = [Dog(), Cat()]\n",
    "for animal in animals:\n",
    "    make_animal_speak(animal) "
   ]
  },
  {
   "cell_type": "code",
   "execution_count": 9,
   "id": "b22bfbd5-da3e-4b05-8418-30996b157c36",
   "metadata": {},
   "outputs": [],
   "source": [
    "#Q.3 Explain why the__init__()function is used. Give a suitable example."
   ]
  },
  {
   "cell_type": "code",
   "execution_count": 10,
   "id": "b98619d1-4962-4912-a142-2bb0512667b3",
   "metadata": {},
   "outputs": [],
   "source": [
    "#Ans"
   ]
  },
  {
   "cell_type": "code",
   "execution_count": 12,
   "id": "211c0e78-8631-4ddb-bd03-b44087302156",
   "metadata": {},
   "outputs": [
    {
     "name": "stdout",
     "output_type": "stream",
     "text": [
      "Hello, my name is Rahul and I am 30 years old.\n",
      "Hello, my name is Radha and I am 25 years old.\n"
     ]
    }
   ],
   "source": [
    "class Person:\n",
    "    def __init__(self, name, age):\n",
    "        self.name = name  \n",
    "        self.age = age    \n",
    "    def greet(self):\n",
    "        return f\"Hello, my name is {self.name} and I am {self.age} years old.\"\n",
    "\n",
    "person1 = Person(\"Rahul\", 30)\n",
    "person2 = Person(\"Radha\", 25)\n",
    "\n",
    "print(person1.greet())  \n",
    "print(person2.greet())  "
   ]
  },
  {
   "cell_type": "code",
   "execution_count": 13,
   "id": "34b08cda-7bad-4e97-96fb-64fa5ce7041e",
   "metadata": {},
   "outputs": [],
   "source": [
    "#Q. 4 Why self is used in OOPs?"
   ]
  },
  {
   "cell_type": "code",
   "execution_count": 14,
   "id": "80ba4b7a-dfb4-4843-ba7d-24ee78ef6462",
   "metadata": {},
   "outputs": [],
   "source": [
    "#Ans"
   ]
  },
  {
   "cell_type": "code",
   "execution_count": 16,
   "id": "881104e3-1489-4b85-9b16-7412e60aa0b7",
   "metadata": {},
   "outputs": [
    {
     "name": "stdout",
     "output_type": "stream",
     "text": [
      "2022 Mahindra Camry\n",
      "2024 Mahindra Camry\n"
     ]
    }
   ],
   "source": [
    "class Car:\n",
    "    def __init__(self, make, model, year):\n",
    "\n",
    "        self.make = make\n",
    "        self.model = model\n",
    "        self.year = year\n",
    "\n",
    "    def display_info(self):\n",
    "        \n",
    "        return f\"{self.year} {self.make} {self.model}\"\n",
    "\n",
    "    def update_year(self, new_year):\n",
    "    \n",
    "        self.year = new_year\n",
    "\n",
    "my_car = Car(\"Mahindra\", \"Camry\", 2022)\n",
    "\n",
    "print(my_car.display_info())  \n",
    "\n",
    "my_car.update_year(2024)\n",
    "print(my_car.display_info())  "
   ]
  },
  {
   "cell_type": "code",
   "execution_count": 17,
   "id": "64aaacaa-0a04-49b4-8ab4-925d45d2ae52",
   "metadata": {},
   "outputs": [],
   "source": [
    "#Q. 5 What is inheritance? Give an example for each type of inheritance."
   ]
  },
  {
   "cell_type": "code",
   "execution_count": 18,
   "id": "8103f9c2-7e26-48f5-9438-64fa7da98ff5",
   "metadata": {},
   "outputs": [],
   "source": [
    "#Ans"
   ]
  },
  {
   "cell_type": "code",
   "execution_count": 19,
   "id": "0fb69aae-5fd7-4d89-9fd6-1d100c4c3cf7",
   "metadata": {},
   "outputs": [
    {
     "name": "stdout",
     "output_type": "stream",
     "text": [
      "Some generic animal sound.\n",
      "Woof!\n"
     ]
    }
   ],
   "source": [
    "class Animal:\n",
    "    def speak(self):\n",
    "        return \"Some generic animal sound.\"\n",
    "\n",
    "class Dog(Animal):\n",
    "    def bark(self):\n",
    "        return \"Woof!\"\n",
    "\n",
    "dog = Dog()\n",
    "print(dog.speak()) \n",
    "print(dog.bark())  "
   ]
  },
  {
   "cell_type": "code",
   "execution_count": 20,
   "id": "cc05e959-769b-442b-ae6e-46342796bbd7",
   "metadata": {},
   "outputs": [
    {
     "name": "stdout",
     "output_type": "stream",
     "text": [
      "Engine started.\n",
      "Playing music.\n",
      "Car is driving.\n"
     ]
    }
   ],
   "source": [
    "class Engine:\n",
    "    def start_engine(self):\n",
    "        return \"Engine started.\"\n",
    "\n",
    "class Radio:\n",
    "    def play_music(self):\n",
    "        return \"Playing music.\"\n",
    "\n",
    "class Car(Engine, Radio):\n",
    "    def drive(self):\n",
    "        return \"Car is driving.\"\n",
    "\n",
    "car = Car()\n",
    "print(car.start_engine())  \n",
    "print(car.play_music())    \n",
    "print(car.drive())         "
   ]
  },
  {
   "cell_type": "code",
   "execution_count": 21,
   "id": "4c3b60d1-c179-4639-8271-f736d3f4a1a4",
   "metadata": {},
   "outputs": [
    {
     "name": "stdout",
     "output_type": "stream",
     "text": [
      "Eating.\n",
      "Breathing air.\n",
      "Woof!\n"
     ]
    }
   ],
   "source": [
    "class Animal:\n",
    "    def eat(self):\n",
    "        return \"Eating.\"\n",
    "\n",
    "class Mammal(Animal):\n",
    "    def breathe(self):\n",
    "        return \"Breathing air.\"\n",
    "\n",
    "class Dog(Mammal):\n",
    "    def bark(self):\n",
    "        return \"Woof!\"\n",
    "\n",
    "dog = Dog()\n",
    "print(dog.eat())     \n",
    "print(dog.breathe())  \n",
    "print(dog.bark())    "
   ]
  },
  {
   "cell_type": "code",
   "execution_count": 22,
   "id": "9b1952a0-363c-46d3-a23d-e44f25c55ac4",
   "metadata": {},
   "outputs": [
    {
     "name": "stdout",
     "output_type": "stream",
     "text": [
      "78.5\n",
      "16\n"
     ]
    }
   ],
   "source": [
    "class Shape:\n",
    "    def area(self):\n",
    "        return \"Calculating area.\"\n",
    "\n",
    "class Circle(Shape):\n",
    "    def area(self, radius):\n",
    "        return 3.14 * radius * radius\n",
    "\n",
    "class Square(Shape):\n",
    "    def area(self, side):\n",
    "        return side * side\n",
    "\n",
    "circle = Circle()\n",
    "square = Square()\n",
    "\n",
    "print(circle.area(5))  \n",
    "print(square.area(4))   "
   ]
  },
  {
   "cell_type": "code",
   "execution_count": 23,
   "id": "5a5f272f-5aed-4784-8ef3-a8a1671c70af",
   "metadata": {},
   "outputs": [
    {
     "name": "stdout",
     "output_type": "stream",
     "text": [
      "Vehicle started.\n",
      "Engine started.\n",
      "Playing music.\n",
      "Car is driving.\n",
      "Playing radio.\n"
     ]
    }
   ],
   "source": [
    "class Vehicle:\n",
    "    def start(self):\n",
    "        return \"Vehicle started.\"\n",
    "\n",
    "class Engine:\n",
    "    def start_engine(self):\n",
    "        return \"Engine started.\"\n",
    "\n",
    "class Radio:\n",
    "    def play_music(self):\n",
    "        return \"Playing music.\"\n",
    "\n",
    "class Car(Vehicle, Engine):\n",
    "    def drive(self):\n",
    "        return \"Car is driving.\"\n",
    "\n",
    "class LuxuryCar(Car, Radio):\n",
    "    def play_radio(self):\n",
    "        return \"Playing radio.\"\n",
    "\n",
    "luxury_car = LuxuryCar()\n",
    "print(luxury_car.start())        \n",
    "print(luxury_car.start_engine())\n",
    "print(luxury_car.play_music())   \n",
    "print(luxury_car.drive())        \n",
    "print(luxury_car.play_radio())  "
   ]
  }
 ],
 "metadata": {
  "kernelspec": {
   "display_name": "Python 3 (ipykernel)",
   "language": "python",
   "name": "python3"
  },
  "language_info": {
   "codemirror_mode": {
    "name": "ipython",
    "version": 3
   },
   "file_extension": ".py",
   "mimetype": "text/x-python",
   "name": "python",
   "nbconvert_exporter": "python",
   "pygments_lexer": "ipython3",
   "version": "3.10.8"
  }
 },
 "nbformat": 4,
 "nbformat_minor": 5
}
